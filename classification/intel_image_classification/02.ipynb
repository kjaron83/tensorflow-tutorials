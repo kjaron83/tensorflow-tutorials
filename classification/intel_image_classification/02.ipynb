{
  "nbformat": 4,
  "nbformat_minor": 0,
  "metadata": {
    "colab": {
      "name": "02.ipynb",
      "provenance": [],
      "collapsed_sections": [],
      "mount_file_id": "1fYQ7UWyzND-b8P_d38gMCkqqmAeSHIGd",
      "authorship_tag": "ABX9TyPjyKmDMp+dqvLiB/jBcyup",
      "include_colab_link": true
    },
    "kernelspec": {
      "name": "python3",
      "display_name": "Python 3"
    },
    "language_info": {
      "name": "python"
    },
    "accelerator": "GPU"
  },
  "cells": [
    {
      "cell_type": "markdown",
      "metadata": {
        "id": "view-in-github",
        "colab_type": "text"
      },
      "source": [
        "<a href=\"https://colab.research.google.com/github/kjaron83/tensorflow-tutorials/blob/master/classification/intel_image_classification/02.ipynb\" target=\"_parent\"><img src=\"https://colab.research.google.com/assets/colab-badge.svg\" alt=\"Open In Colab\"/></a>"
      ]
    },
    {
      "cell_type": "markdown",
      "source": [
        "# Processing the [Intel natural scenes](https://www.kaggle.com/puneet6060/intel-image-classification) dataset."
      ],
      "metadata": {
        "id": "JdDM5Auj-Cti"
      }
    },
    {
      "cell_type": "markdown",
      "source": [
        "This time I use feature extraction and try serveral different pre-build architectures."
      ],
      "metadata": {
        "id": "tRA5HwJTgBhX"
      }
    },
    {
      "cell_type": "code",
      "source": [
        "# Are we using a GPU?\n",
        "!nvidia-smi"
      ],
      "metadata": {
        "colab": {
          "base_uri": "https://localhost:8080/"
        },
        "id": "NviVdsWkc41A",
        "outputId": "3d827fd9-c71a-489e-f45a-d54e75bee28e"
      },
      "execution_count": 2,
      "outputs": [
        {
          "output_type": "stream",
          "name": "stdout",
          "text": [
            "Thu Mar 10 15:21:08 2022       \n",
            "+-----------------------------------------------------------------------------+\n",
            "| NVIDIA-SMI 460.32.03    Driver Version: 460.32.03    CUDA Version: 11.2     |\n",
            "|-------------------------------+----------------------+----------------------+\n",
            "| GPU  Name        Persistence-M| Bus-Id        Disp.A | Volatile Uncorr. ECC |\n",
            "| Fan  Temp  Perf  Pwr:Usage/Cap|         Memory-Usage | GPU-Util  Compute M. |\n",
            "|                               |                      |               MIG M. |\n",
            "|===============================+======================+======================|\n",
            "|   0  Tesla T4            Off  | 00000000:00:04.0 Off |                    0 |\n",
            "| N/A   61C    P8    10W /  70W |      0MiB / 15109MiB |      0%      Default |\n",
            "|                               |                      |                  N/A |\n",
            "+-------------------------------+----------------------+----------------------+\n",
            "                                                                               \n",
            "+-----------------------------------------------------------------------------+\n",
            "| Processes:                                                                  |\n",
            "|  GPU   GI   CI        PID   Type   Process name                  GPU Memory |\n",
            "|        ID   ID                                                   Usage      |\n",
            "|=============================================================================|\n",
            "|  No running processes found                                                 |\n",
            "+-----------------------------------------------------------------------------+\n"
          ]
        }
      ]
    },
    {
      "cell_type": "code",
      "source": [
        "# Download zip file of images showing natural scenes around the world\n",
        "\n",
        "# Train data\n",
        "!wget https://archive.org/download/seg_train/seg_train.zip\n",
        "# Test data\n",
        "!wget https://archive.org/download/seg_test/seg_test.zip"
      ],
      "metadata": {
        "colab": {
          "base_uri": "https://localhost:8080/"
        },
        "id": "mzkAggc3aXM6",
        "outputId": "e8ea9988-4d08-4627-a807-49bb1391f4a3"
      },
      "execution_count": 3,
      "outputs": [
        {
          "output_type": "stream",
          "name": "stdout",
          "text": [
            "--2022-03-10 15:21:10--  https://archive.org/download/seg_train/seg_train.zip\n",
            "Resolving archive.org (archive.org)... 207.241.224.2\n",
            "Connecting to archive.org (archive.org)|207.241.224.2|:443... connected.\n",
            "HTTP request sent, awaiting response... 302 Found\n",
            "Location: https://ia801409.us.archive.org/24/items/seg_train/seg_train.zip [following]\n",
            "--2022-03-10 15:21:11--  https://ia801409.us.archive.org/24/items/seg_train/seg_train.zip\n",
            "Resolving ia801409.us.archive.org (ia801409.us.archive.org)... 207.241.228.149\n",
            "Connecting to ia801409.us.archive.org (ia801409.us.archive.org)|207.241.228.149|:443... connected.\n",
            "HTTP request sent, awaiting response... 200 OK\n",
            "Length: 209388413 (200M) [application/zip]\n",
            "Saving to: ‘seg_train.zip’\n",
            "\n",
            "seg_train.zip       100%[===================>] 199.69M   569KB/s    in 6m 24s  \n",
            "\n",
            "2022-03-10 15:27:35 (532 KB/s) - ‘seg_train.zip’ saved [209388413/209388413]\n",
            "\n",
            "--2022-03-10 15:27:35--  https://archive.org/download/seg_test/seg_test.zip\n",
            "Resolving archive.org (archive.org)... 207.241.224.2\n",
            "Connecting to archive.org (archive.org)|207.241.224.2|:443... connected.\n",
            "HTTP request sent, awaiting response... 302 Found\n",
            "Location: https://ia801505.us.archive.org/30/items/seg_test/seg_test.zip [following]\n",
            "--2022-03-10 15:27:35--  https://ia801505.us.archive.org/30/items/seg_test/seg_test.zip\n",
            "Resolving ia801505.us.archive.org (ia801505.us.archive.org)... 207.241.228.155\n",
            "Connecting to ia801505.us.archive.org (ia801505.us.archive.org)|207.241.228.155|:443... connected.\n",
            "HTTP request sent, awaiting response... 200 OK\n",
            "Length: 44635476 (43M) [application/zip]\n",
            "Saving to: ‘seg_test.zip’\n",
            "\n",
            "seg_test.zip        100%[===================>]  42.57M   327KB/s    in 80s     \n",
            "\n",
            "2022-03-10 15:28:57 (547 KB/s) - ‘seg_test.zip’ saved [44635476/44635476]\n",
            "\n"
          ]
        }
      ]
    },
    {
      "cell_type": "code",
      "source": [
        "# Unzip the downloaded files\n",
        "import zipfile\n",
        "\n",
        "zip_ref = zipfile.ZipFile(\"/content/seg_train.zip\", \"r\")\n",
        "zip_ref.extractall()\n",
        "zip_ref.close()\n",
        "\n",
        "zip_ref = zipfile.ZipFile(\"/content/seg_test.zip\", \"r\")\n",
        "zip_ref.extractall()\n",
        "zip_ref.close()"
      ],
      "metadata": {
        "id": "X74s79Rroe1O"
      },
      "execution_count": 4,
      "outputs": []
    },
    {
      "cell_type": "markdown",
      "source": [
        "Skipping data visualization. See: [01.ipynb](https://github.com/kjaron83/tensorflow-tutorials/blob/master/classification/intel_image_classification/01.ipynb)"
      ],
      "metadata": {
        "id": "OtMLBOFCpOMF"
      }
    },
    {
      "cell_type": "code",
      "source": [
        "# Setup the train and test directories\n",
        "train_dir = \"/content/seg_train\"\n",
        "test_dir = \"/content/seg_test\"\n",
        "\n",
        "# Make sure we use the same image shape everywhere\n",
        "TARGET_SIZE = (224, 224)\n",
        "INPUT_SHAPE = TARGET_SIZE + (3,)\n",
        "\n",
        "# Batch size for good health\n",
        "BATCH_SIZE = 32\n",
        "\n",
        "# Using the same epochs everywhere\n",
        "EPOCHS = 5\n",
        "\n",
        "# Same random seed for repeatable results\n",
        "RANDOM_SEED = 42"
      ],
      "metadata": {
        "id": "a-jiQG_uxTK1"
      },
      "execution_count": 5,
      "outputs": []
    },
    {
      "cell_type": "code",
      "source": [
        "# Get the class names for our multi-class dataset\n",
        "import pathlib\n",
        "import numpy as np\n",
        "data_dir = pathlib.Path(train_dir)\n",
        "class_names = np.array(sorted([item.name for item in data_dir.glob('*')]))\n",
        "print(class_names)"
      ],
      "metadata": {
        "colab": {
          "base_uri": "https://localhost:8080/"
        },
        "id": "D7o5cWn_0JPQ",
        "outputId": "5e394fa8-eff1-4e51-f8f2-1d2cb5cc5e52"
      },
      "execution_count": 6,
      "outputs": [
        {
          "output_type": "stream",
          "name": "stdout",
          "text": [
            "['buildings' 'forest' 'glacier' 'mountain' 'sea' 'street']\n"
          ]
        }
      ]
    },
    {
      "cell_type": "code",
      "source": [
        "# We have 6 classes so this is a categorical classification problem\n",
        "CLASS_COUNT = len(class_names)\n",
        "CLASS_MODE = \"categorical\""
      ],
      "metadata": {
        "id": "Ji_1_3cr9maI"
      },
      "execution_count": 7,
      "outputs": []
    },
    {
      "cell_type": "code",
      "source": [
        "import tensorflow as tf\n",
        "from tensorflow.keras.preprocessing.image import ImageDataGenerator\n",
        "\n",
        "# Set the seed\n",
        "tf.random.set_seed(RANDOM_SEED)\n",
        "\n",
        "# Preprocess data (get all of the pixel values between 1 and 0, also called scaling/normalization)\n",
        "train_datagen = ImageDataGenerator(rescale=1./255)\n",
        "valid_datagen = ImageDataGenerator(rescale=1./255)\n",
        "\n",
        "# Import data from directories and turn it into batches\n",
        "train_data = train_datagen.flow_from_directory(train_dir,\n",
        "                                               batch_size=BATCH_SIZE, # number of images to process at a time \n",
        "                                               target_size=TARGET_SIZE, # convert all images to the same size\n",
        "                                               class_mode=CLASS_MODE, # type of problem we're working on\n",
        "                                               seed=RANDOM_SEED)\n",
        "\n",
        "valid_data = valid_datagen.flow_from_directory(test_dir,\n",
        "                                               batch_size=BATCH_SIZE,\n",
        "                                               target_size=TARGET_SIZE,\n",
        "                                               class_mode=CLASS_MODE,\n",
        "                                               seed=RANDOM_SEED)"
      ],
      "metadata": {
        "id": "95vMhQ7EqVdg",
        "colab": {
          "base_uri": "https://localhost:8080/"
        },
        "outputId": "d657eefc-b331-402d-828d-dd37f7e616e0"
      },
      "execution_count": 8,
      "outputs": [
        {
          "output_type": "stream",
          "name": "stdout",
          "text": [
            "Found 14034 images belonging to 6 classes.\n",
            "Found 3000 images belonging to 6 classes.\n"
          ]
        }
      ]
    },
    {
      "cell_type": "code",
      "source": [
        "import tensorflow as tf\n",
        "import tensorflow_hub as hub\n",
        "from tensorflow.keras import layers"
      ],
      "metadata": {
        "id": "kJOR2gv3z6bu"
      },
      "execution_count": 9,
      "outputs": []
    },
    {
      "cell_type": "code",
      "source": [
        "def create_model(model_url, num_classes=10):\n",
        "  \"\"\"Takes a TensorFlow Hub URL and creates a Keras Sequential model with it.\n",
        "  \n",
        "  Args:\n",
        "    model_url (str): A TensorFlow Hub feature extraction URL.\n",
        "    num_classes (int): Number of output neurons in output layer,\n",
        "      should be equal to number of target classes, default 10.\n",
        "\n",
        "  Returns:\n",
        "    An uncompiled Keras Sequential model with model_url as feature\n",
        "    extractor layer and Dense output layer with num_classes outputs.\n",
        "  \"\"\"\n",
        "  # Download the pretrained model and save it as a Keras layer\n",
        "  feature_extractor_layer = hub.KerasLayer(model_url,\n",
        "                                           trainable=False, # freeze the underlying patterns\n",
        "                                           name='feature_extraction_layer',\n",
        "                                           input_shape=INPUT_SHAPE) # define the input image shape\n",
        "  \n",
        "  # Create our own model\n",
        "  model = tf.keras.Sequential([\n",
        "    feature_extractor_layer, # use the feature extraction layer as the base\n",
        "    layers.Dense(num_classes, activation='softmax', name='output_layer') # create our own output layer      \n",
        "  ])\n",
        "\n",
        "  return model"
      ],
      "metadata": {
        "id": "LoKPV1FMir4c"
      },
      "execution_count": 10,
      "outputs": []
    },
    {
      "cell_type": "code",
      "source": [
        "# Create tensorboard callback (functionized because need to create a new one for each model)\n",
        "import datetime\n",
        "def create_tensorboard_callback(dir_name, experiment_name):\n",
        "  log_dir = dir_name + \"/\" + experiment_name + \"/\" + datetime.datetime.now().strftime(\"%Y%m%d-%H%M%S\")\n",
        "  tensorboard_callback = tf.keras.callbacks.TensorBoard(\n",
        "      log_dir=log_dir\n",
        "  )\n",
        "  print(f\"Saving TensorBoard log files to: {log_dir}\")\n",
        "  return tensorboard_callback"
      ],
      "metadata": {
        "id": "DOS7F6s_q68Z"
      },
      "execution_count": 11,
      "outputs": []
    },
    {
      "cell_type": "code",
      "source": [
        "# Resnet 50 V2 feature vector\n",
        "resnet_url = \"https://tfhub.dev/google/imagenet/resnet_v2_50/feature_vector/4\"\n",
        "\n",
        "# EfficientNetB0 feature vector (version 1)\n",
        "efficientnet_url = \"https://tfhub.dev/tensorflow/efficientnet/b0/feature-vector/1\"\n",
        "\n",
        "# MobileNetV2 feature vector\n",
        "mobilenet_url = \"https://tfhub.dev/google/imagenet/mobilenet_v2_100_224/feature_vector/5\""
      ],
      "metadata": {
        "id": "q13OBGkTjRgu"
      },
      "execution_count": 12,
      "outputs": []
    },
    {
      "cell_type": "code",
      "source": [
        "# Create model\n",
        "resnet_model = create_model(resnet_url, num_classes=train_data.num_classes)\n",
        "\n",
        "# Compile\n",
        "resnet_model.compile(loss='categorical_crossentropy',\n",
        "                     optimizer=tf.keras.optimizers.Adam(),\n",
        "                     metrics=['accuracy'])\n",
        "\n",
        "# Fit the model\n",
        "resnet_history = resnet_model.fit(train_data,\n",
        "                                  epochs=EPOCHS,\n",
        "                                  steps_per_epoch=len(train_data),\n",
        "                                  validation_data=valid_data,\n",
        "                                  validation_steps=len(valid_data),\n",
        "                                  # Add TensorBoard callback to model (callbacks parameter takes a list)\n",
        "                                  callbacks=[create_tensorboard_callback(dir_name=\"tensorflow_hub\", # save experiment logs here\n",
        "                                                                         experiment_name=\"resnet50V2\")]) # name of log files"
      ],
      "metadata": {
        "id": "pqD1HuhtpjYs",
        "colab": {
          "base_uri": "https://localhost:8080/"
        },
        "outputId": "73241559-ed3f-4a69-f454-f2f15932eac3"
      },
      "execution_count": 13,
      "outputs": [
        {
          "output_type": "stream",
          "name": "stdout",
          "text": [
            "Saving TensorBoard log files to: tensorflow_hub/resnet50V2/20220310-153008\n",
            "Epoch 1/5\n",
            "439/439 [==============================] - 60s 107ms/step - loss: 0.3028 - accuracy: 0.8898 - val_loss: 0.2217 - val_accuracy: 0.9127\n",
            "Epoch 2/5\n",
            "439/439 [==============================] - 46s 106ms/step - loss: 0.1996 - accuracy: 0.9282 - val_loss: 0.2011 - val_accuracy: 0.9237\n",
            "Epoch 3/5\n",
            "439/439 [==============================] - 47s 106ms/step - loss: 0.1713 - accuracy: 0.9361 - val_loss: 0.2072 - val_accuracy: 0.9193\n",
            "Epoch 4/5\n",
            "439/439 [==============================] - 47s 106ms/step - loss: 0.1551 - accuracy: 0.9418 - val_loss: 0.2092 - val_accuracy: 0.9223\n",
            "Epoch 5/5\n",
            "439/439 [==============================] - 47s 106ms/step - loss: 0.1408 - accuracy: 0.9480 - val_loss: 0.2137 - val_accuracy: 0.9180\n"
          ]
        }
      ]
    },
    {
      "cell_type": "code",
      "source": [
        "resnet_model.save(\"/content/drive/MyDrive/Colab Notebooks/intel_image_classification/resnet50V2\")"
      ],
      "metadata": {
        "colab": {
          "base_uri": "https://localhost:8080/"
        },
        "id": "kYumBOmqIcr7",
        "outputId": "bb5ba087-cd5f-4e26-fe20-3d5701f390bd"
      },
      "execution_count": 14,
      "outputs": [
        {
          "output_type": "stream",
          "name": "stdout",
          "text": [
            "INFO:tensorflow:Assets written to: /content/drive/MyDrive/Colab Notebooks/intel_image_classification/resnet50V2/assets\n"
          ]
        },
        {
          "output_type": "stream",
          "name": "stderr",
          "text": [
            "INFO:tensorflow:Assets written to: /content/drive/MyDrive/Colab Notebooks/intel_image_classification/resnet50V2/assets\n"
          ]
        }
      ]
    },
    {
      "cell_type": "code",
      "source": [
        "import tensorflow as tf\n",
        "\n",
        "# Load in a model and evaluate it\n",
        "resnet_model = tf.keras.models.load_model(\"/content/drive/MyDrive/Colab Notebooks/intel_image_classification/resnet50V2\")\n",
        "\n",
        "resnet_model.summary()"
      ],
      "metadata": {
        "colab": {
          "base_uri": "https://localhost:8080/"
        },
        "id": "9L7JdckRTw-B",
        "outputId": "eed5684b-9e1f-46c9-89a5-e76a47362551"
      },
      "execution_count": 15,
      "outputs": [
        {
          "output_type": "stream",
          "name": "stdout",
          "text": [
            "Model: \"sequential\"\n",
            "_________________________________________________________________\n",
            " Layer (type)                Output Shape              Param #   \n",
            "=================================================================\n",
            " feature_extraction_layer (K  (None, 2048)             23564800  \n",
            " erasLayer)                                                      \n",
            "                                                                 \n",
            " output_layer (Dense)        (None, 6)                 12294     \n",
            "                                                                 \n",
            "=================================================================\n",
            "Total params: 23,577,094\n",
            "Trainable params: 12,294\n",
            "Non-trainable params: 23,564,800\n",
            "_________________________________________________________________\n"
          ]
        }
      ]
    },
    {
      "cell_type": "code",
      "source": [
        "from tensorflow.keras.preprocessing.image import ImageDataGenerator\n",
        "\n",
        "pred_dir = \"/content/seg_test\"\n",
        "\n",
        "pred_datagen = ImageDataGenerator(rescale=1./255)\n",
        "\n",
        "print(\"Images for prediction:\")\n",
        "pred_data = pred_datagen.flow_from_directory(pred_dir,\n",
        "                                             target_size=TARGET_SIZE,\n",
        "                                             batch_size=BATCH_SIZE,\n",
        "                                             class_mode=CLASS_MODE,\n",
        "                                             shuffle=False)\n",
        "y_true = pred_data.classes"
      ],
      "metadata": {
        "colab": {
          "base_uri": "https://localhost:8080/"
        },
        "id": "4SfGI8G7N64a",
        "outputId": "1d18347f-f496-4e9b-ff58-d7d8f3249134"
      },
      "execution_count": 17,
      "outputs": [
        {
          "output_type": "stream",
          "name": "stdout",
          "text": [
            "Images for prediction:\n",
            "Found 3000 images belonging to 6 classes.\n"
          ]
        }
      ]
    },
    {
      "cell_type": "code",
      "source": [
        "#Confution Matrix and Classification Report\n",
        "from sklearn.metrics import confusion_matrix\n",
        "\n",
        "Y_pred = resnet_model.predict(pred_data)\n",
        "y_pred = np.argmax(Y_pred, axis=1)\n",
        "\n",
        "cm = confusion_matrix(y_true, y_pred)\n",
        "cm"
      ],
      "metadata": {
        "colab": {
          "base_uri": "https://localhost:8080/"
        },
        "id": "YoVLPNHu1ePh",
        "outputId": "2e8529ed-cabc-44c5-ed46-e00525fcaec3"
      },
      "execution_count": 18,
      "outputs": [
        {
          "output_type": "execute_result",
          "data": {
            "text/plain": [
              "array([[391,   0,   1,   0,   1,  44],\n",
              "       [  0, 469,   2,   0,   1,   2],\n",
              "       [  1,   2, 462,  73,  15,   0],\n",
              "       [  0,   4,  59, 448,  13,   1],\n",
              "       [  0,   2,   2,   5, 497,   4],\n",
              "       [ 13,   0,   0,   1,   0, 487]])"
            ]
          },
          "metadata": {},
          "execution_count": 18
        }
      ]
    },
    {
      "cell_type": "code",
      "source": [
        "from sklearn.metrics import confusion_matrix\n",
        "import matplotlib.pyplot as plt\n",
        "import seaborn as sns\n",
        "\n",
        "def plot_confusion_matrix(y_true, y_pred, class_names):\n",
        "  plt.figure(figsize=(10,10))\n",
        "\n",
        "  cm = confusion_matrix(y_true, y_pred)\n",
        "  ax = sns.heatmap(cm,cbar=False,annot=True,cmap=plt.cm.Blues,fmt='.4g')\n",
        "  ax.set_title('Confusion Matrix')\n",
        "  ax.set_xlabel('\\nPredicted Values')\n",
        "  ax.set_ylabel('Actual Values ');\n",
        "\n",
        "  ## Ticket labels - List must be in alphabetical order\n",
        "  ax.xaxis.set_ticklabels(class_names)\n",
        "  ax.yaxis.set_ticklabels(class_names);"
      ],
      "metadata": {
        "id": "Z7-eYKx112cw"
      },
      "execution_count": 19,
      "outputs": []
    },
    {
      "cell_type": "markdown",
      "source": [
        "# Resnet 50 V2 confusion matrix"
      ],
      "metadata": {
        "id": "a_dgBICQ2jHx"
      }
    },
    {
      "cell_type": "code",
      "source": [
        "plot_confusion_matrix(y_true, y_pred, class_names)"
      ],
      "metadata": {
        "colab": {
          "base_uri": "https://localhost:8080/",
          "height": 633
        },
        "id": "8YY7M4qR2W_F",
        "outputId": "064f1258-f3f5-4d1e-9e98-f4408fbabbda"
      },
      "execution_count": 20,
      "outputs": [
        {
          "output_type": "display_data",
          "data": {
            "image/png": "[encoded data removed]",
            "text/plain": [
              "<Figure size 720x720 with 1 Axes>"
            ]
          },
          "metadata": {
            "needs_background": "light"
          }
        }
      ]
    },
    {
      "cell_type": "code",
      "source": [
        "# Create model\n",
        "efficientnet_model = create_model(efficientnet_url, num_classes=train_data.num_classes)\n",
        "\n",
        "# Compile\n",
        "efficientnet_model.compile(loss='categorical_crossentropy',\n",
        "                     optimizer=tf.keras.optimizers.Adam(),\n",
        "                     metrics=['accuracy'])\n",
        "\n",
        "# Fit the model\n",
        "efficientnet_history = efficientnet_model.fit(train_data,\n",
        "                                  epochs=EPOCHS,\n",
        "                                  steps_per_epoch=len(train_data),\n",
        "                                  validation_data=valid_data,\n",
        "                                  validation_steps=len(valid_data),\n",
        "                                  # Add TensorBoard callback to model (callbacks parameter takes a list)\n",
        "                                  callbacks=[create_tensorboard_callback(dir_name=\"tensorflow_hub\", # save experiment logs here\n",
        "                                                                         experiment_name=\"efficientnetB0V1\")]) # name of log files"
      ],
      "metadata": {
        "colab": {
          "base_uri": "https://localhost:8080/"
        },
        "id": "oit_iyMd3Auj",
        "outputId": "bed514b7-5d3d-420d-ceee-f08b62538f66"
      },
      "execution_count": 21,
      "outputs": [
        {
          "output_type": "stream",
          "name": "stdout",
          "text": [
            "Saving TensorBoard log files to: tensorflow_hub/efficientnetB0V1/20220310-153631\n",
            "Epoch 1/5\n",
            "439/439 [==============================] - 46s 85ms/step - loss: 0.3250 - accuracy: 0.8945 - val_loss: 0.2311 - val_accuracy: 0.9150\n",
            "Epoch 2/5\n",
            "439/439 [==============================] - 34s 78ms/step - loss: 0.1949 - accuracy: 0.9330 - val_loss: 0.2067 - val_accuracy: 0.9293\n",
            "Epoch 3/5\n",
            "439/439 [==============================] - 34s 78ms/step - loss: 0.1738 - accuracy: 0.9384 - val_loss: 0.1998 - val_accuracy: 0.9267\n",
            "Epoch 4/5\n",
            "439/439 [==============================] - 35s 79ms/step - loss: 0.1599 - accuracy: 0.9440 - val_loss: 0.2035 - val_accuracy: 0.9263\n",
            "Epoch 5/5\n",
            "439/439 [==============================] - 34s 78ms/step - loss: 0.1505 - accuracy: 0.9468 - val_loss: 0.1875 - val_accuracy: 0.9320\n"
          ]
        }
      ]
    },
    {
      "cell_type": "code",
      "source": [
        "efficientnet_model.save(\"/content/drive/MyDrive/Colab Notebooks/intel_image_classification/efficientnetB0V1\")"
      ],
      "metadata": {
        "colab": {
          "base_uri": "https://localhost:8080/"
        },
        "id": "E3W_uat1I53J",
        "outputId": "9cb5adad-c5b6-4178-d5a7-33f564bc401d"
      },
      "execution_count": 22,
      "outputs": [
        {
          "output_type": "stream",
          "name": "stdout",
          "text": [
            "INFO:tensorflow:Assets written to: /content/drive/MyDrive/Colab Notebooks/intel_image_classification/efficientnetB0V1/assets\n"
          ]
        },
        {
          "output_type": "stream",
          "name": "stderr",
          "text": [
            "INFO:tensorflow:Assets written to: /content/drive/MyDrive/Colab Notebooks/intel_image_classification/efficientnetB0V1/assets\n"
          ]
        }
      ]
    },
    {
      "cell_type": "code",
      "source": [
        "import tensorflow as tf\n",
        "\n",
        "# Load in a model and evaluate it\n",
        "efficientnet_model = tf.keras.models.load_model(\"/content/drive/MyDrive/Colab Notebooks/intel_image_classification/efficientnetB0V1\")\n",
        "\n",
        "efficientnet_model.summary()"
      ],
      "metadata": {
        "colab": {
          "base_uri": "https://localhost:8080/"
        },
        "id": "pD_6ETypPENC",
        "outputId": "42d09752-4409-49e4-bef6-92ff253cb859"
      },
      "execution_count": 23,
      "outputs": [
        {
          "output_type": "stream",
          "name": "stdout",
          "text": [
            "Model: \"sequential_1\"\n",
            "_________________________________________________________________\n",
            " Layer (type)                Output Shape              Param #   \n",
            "=================================================================\n",
            " feature_extraction_layer (K  (None, 1280)             4049564   \n",
            " erasLayer)                                                      \n",
            "                                                                 \n",
            " output_layer (Dense)        (None, 6)                 7686      \n",
            "                                                                 \n",
            "=================================================================\n",
            "Total params: 4,057,250\n",
            "Trainable params: 7,686\n",
            "Non-trainable params: 4,049,564\n",
            "_________________________________________________________________\n"
          ]
        }
      ]
    },
    {
      "cell_type": "markdown",
      "source": [
        "# EfficientNetB0 feature vector (version 1) confusion matrix"
      ],
      "metadata": {
        "id": "WQBl4Zv06C6w"
      }
    },
    {
      "cell_type": "code",
      "source": [
        "from sklearn.metrics import confusion_matrix\n",
        "\n",
        "Y_pred = efficientnet_model.predict(pred_data)\n",
        "y_pred = np.argmax(Y_pred, axis=1)\n",
        "\n",
        "cm = confusion_matrix(y_true, y_pred)\n",
        "cm"
      ],
      "metadata": {
        "colab": {
          "base_uri": "https://localhost:8080/"
        },
        "id": "uiTfYPw8Pbjc",
        "outputId": "3d5c6be7-a2f3-44a3-fff3-8d00c853c48b"
      },
      "execution_count": 24,
      "outputs": [
        {
          "output_type": "execute_result",
          "data": {
            "text/plain": [
              "array([[412,   0,   0,   0,   2,  23],\n",
              "       [  0, 471,   1,   2,   0,   0],\n",
              "       [  0,   0, 485,  50,  17,   1],\n",
              "       [  0,   1,  55, 462,   6,   1],\n",
              "       [  1,   0,  12,   2, 495,   0],\n",
              "       [ 28,   0,   0,   2,   0, 471]])"
            ]
          },
          "metadata": {},
          "execution_count": 24
        }
      ]
    },
    {
      "cell_type": "code",
      "source": [
        "#Confution Matrix and Classification Report\n",
        "Y_pred = efficientnet_model.predict(pred_data)\n",
        "y_pred = np.argmax(Y_pred, axis=1)\n",
        "plot_confusion_matrix(y_true, y_pred, class_names)"
      ],
      "metadata": {
        "colab": {
          "base_uri": "https://localhost:8080/",
          "height": 633
        },
        "id": "seEFFHaV4gHY",
        "outputId": "77d023af-32a1-43c9-8e91-4fcc5f9074dd"
      },
      "execution_count": 25,
      "outputs": [
        {
          "output_type": "display_data",
          "data": {
            "image/png": "[encoded data removed]",
            "text/plain": [
              "<Figure size 720x720 with 1 Axes>"
            ]
          },
          "metadata": {
            "needs_background": "light"
          }
        }
      ]
    },
    {
      "cell_type": "code",
      "source": [
        "# Create model\n",
        "mobilenet_model = create_model(mobilenet_url, num_classes=train_data.num_classes)\n",
        "\n",
        "# Compile\n",
        "mobilenet_model.compile(loss='categorical_crossentropy',\n",
        "                     optimizer=tf.keras.optimizers.Adam(),\n",
        "                     metrics=['accuracy'])\n",
        "\n",
        "# Fit the model\n",
        "mobilenet_history = mobilenet_model.fit(train_data,\n",
        "                                  epochs=EPOCHS,\n",
        "                                  steps_per_epoch=len(train_data),\n",
        "                                  validation_data=valid_data,\n",
        "                                  validation_steps=len(valid_data),\n",
        "                                  # Add TensorBoard callback to model (callbacks parameter takes a list)\n",
        "                                  callbacks=[create_tensorboard_callback(dir_name=\"tensorflow_hub\", # save experiment logs here\n",
        "                                                                         experiment_name=\"mobilenetV2\")]) # name of log files"
      ],
      "metadata": {
        "colab": {
          "base_uri": "https://localhost:8080/"
        },
        "id": "V93o0e0F59Rp",
        "outputId": "342fab83-7043-46cd-abe5-5ab73976168a"
      },
      "execution_count": 26,
      "outputs": [
        {
          "output_type": "stream",
          "name": "stdout",
          "text": [
            "Saving TensorBoard log files to: tensorflow_hub/mobilenetV2/20220310-154744\n",
            "Epoch 1/5\n",
            "439/439 [==============================] - 36s 74ms/step - loss: 0.3311 - accuracy: 0.8811 - val_loss: 0.2410 - val_accuracy: 0.9127\n",
            "Epoch 2/5\n",
            "439/439 [==============================] - 31s 72ms/step - loss: 0.2238 - accuracy: 0.9203 - val_loss: 0.2511 - val_accuracy: 0.9113\n",
            "Epoch 3/5\n",
            "439/439 [==============================] - 31s 71ms/step - loss: 0.1996 - accuracy: 0.9272 - val_loss: 0.2285 - val_accuracy: 0.9143\n",
            "Epoch 4/5\n",
            "439/439 [==============================] - 31s 71ms/step - loss: 0.1810 - accuracy: 0.9346 - val_loss: 0.2195 - val_accuracy: 0.9183\n",
            "Epoch 5/5\n",
            "439/439 [==============================] - 31s 70ms/step - loss: 0.1695 - accuracy: 0.9373 - val_loss: 0.2235 - val_accuracy: 0.9167\n"
          ]
        }
      ]
    },
    {
      "cell_type": "code",
      "source": [
        "mobilenet_model.save(\"/content/drive/MyDrive/Colab Notebooks/intel_image_classification/mobilenetV2\")"
      ],
      "metadata": {
        "colab": {
          "base_uri": "https://localhost:8080/"
        },
        "id": "9xN_ubugJJeD",
        "outputId": "156185d8-4dad-498a-f70f-d0b7f3851607"
      },
      "execution_count": 27,
      "outputs": [
        {
          "output_type": "stream",
          "name": "stdout",
          "text": [
            "INFO:tensorflow:Assets written to: /content/drive/MyDrive/Colab Notebooks/intel_image_classification/mobilenetV2/assets\n"
          ]
        },
        {
          "output_type": "stream",
          "name": "stderr",
          "text": [
            "INFO:tensorflow:Assets written to: /content/drive/MyDrive/Colab Notebooks/intel_image_classification/mobilenetV2/assets\n"
          ]
        }
      ]
    },
    {
      "cell_type": "code",
      "source": [
        "import tensorflow as tf\n",
        "\n",
        "# Load in a model and evaluate it\n",
        "mobilenet_model = tf.keras.models.load_model(\"/content/drive/MyDrive/Colab Notebooks/intel_image_classification/mobilenetV2\")\n",
        "\n",
        "mobilenet_model.summary()"
      ],
      "metadata": {
        "colab": {
          "base_uri": "https://localhost:8080/"
        },
        "id": "jLOhCoSNNZsY",
        "outputId": "333faa25-03df-4036-b66e-29afe565bf95"
      },
      "execution_count": 28,
      "outputs": [
        {
          "output_type": "stream",
          "name": "stdout",
          "text": [
            "Model: \"sequential_2\"\n",
            "_________________________________________________________________\n",
            " Layer (type)                Output Shape              Param #   \n",
            "=================================================================\n",
            " feature_extraction_layer (K  (None, 1280)             2257984   \n",
            " erasLayer)                                                      \n",
            "                                                                 \n",
            " output_layer (Dense)        (None, 6)                 7686      \n",
            "                                                                 \n",
            "=================================================================\n",
            "Total params: 2,265,670\n",
            "Trainable params: 7,686\n",
            "Non-trainable params: 2,257,984\n",
            "_________________________________________________________________\n"
          ]
        }
      ]
    },
    {
      "cell_type": "markdown",
      "source": [
        "# MobileNetV2 feature vector confusion matrix"
      ],
      "metadata": {
        "id": "TBzI_TfZHLMp"
      }
    },
    {
      "cell_type": "code",
      "source": [
        "from sklearn.metrics import confusion_matrix\n",
        "\n",
        "Y_pred = mobilenet_model.predict(pred_data)\n",
        "y_pred = np.argmax(Y_pred, axis=1)\n",
        "\n",
        "cm = confusion_matrix(y_true, y_pred)\n",
        "cm"
      ],
      "metadata": {
        "colab": {
          "base_uri": "https://localhost:8080/"
        },
        "id": "RcKpamLLOT3x",
        "outputId": "18865731-db50-4562-dd86-15c5729f6633"
      },
      "execution_count": 29,
      "outputs": [
        {
          "output_type": "execute_result",
          "data": {
            "text/plain": [
              "array([[394,   0,   1,   1,   1,  40],\n",
              "       [  0, 470,   1,   1,   2,   0],\n",
              "       [  0,   2, 471,  64,  15,   1],\n",
              "       [  1,   4,  61, 451,   7,   1],\n",
              "       [  0,   1,  17,   7, 483,   2],\n",
              "       [ 16,   0,   0,   1,   3, 481]])"
            ]
          },
          "metadata": {},
          "execution_count": 29
        }
      ]
    },
    {
      "cell_type": "code",
      "source": [
        "#Confution Matrix and Classification Report\n",
        "Y_pred = mobilenet_model.predict(pred_data)\n",
        "y_pred = np.argmax(Y_pred, axis=1)\n",
        "plot_confusion_matrix(y_true, y_pred, class_names)"
      ],
      "metadata": {
        "colab": {
          "base_uri": "https://localhost:8080/",
          "height": 633
        },
        "id": "zzxX6akxHLzG",
        "outputId": "a0d8846e-b302-4808-d381-2433d95ffd68"
      },
      "execution_count": 30,
      "outputs": [
        {
          "output_type": "display_data",
          "data": {
            "image/png": "[encoded data removed]",
            "text/plain": [
              "<Figure size 720x720 with 1 Axes>"
            ]
          },
          "metadata": {
            "needs_background": "light"
          }
        }
      ]
    },
    {
      "cell_type": "code",
      "source": [
        "# Upload TensorBoard dev records\n",
        "!tensorboard dev upload --logdir ./tensorflow_hub/ \\\n",
        "  --name \"EfficientNetB0 vs. ResNet50V2 vs. MobileNetV2\" \\\n",
        "  --description \"Comparing three different TF Hub feature extraction models architectures using Intel natural scenes dataset.\" \\\n",
        "  --one_shot"
      ],
      "metadata": {
        "id": "L_ULhkMqJmOJ"
      },
      "execution_count": null,
      "outputs": []
    },
    {
      "cell_type": "markdown",
      "source": [
        "# TensorBoard\n",
        "View your TensorBoard at https://tensorboard.dev/experiment/qNyxnS43S8ybsWggONTWng/"
      ],
      "metadata": {
        "id": "xQyhxakTeNtU"
      }
    },
    {
      "cell_type": "code",
      "source": [
        "!tensorboard dev list"
      ],
      "metadata": {
        "colab": {
          "base_uri": "https://localhost:8080/"
        },
        "id": "pNARsoXmeWOo",
        "outputId": "8d8d624b-e42e-4ab3-dc20-c98fd3e727a6"
      },
      "execution_count": 36,
      "outputs": [
        {
          "output_type": "stream",
          "name": "stdout",
          "text": [
            "https://tensorboard.dev/experiment/qNyxnS43S8ybsWggONTWng/\n",
            "\tName                 EfficientNetB0 vs. ResNet50V2 vs. MobileNetV2\n",
            "\tDescription          Comparing three different TF Hub feature extraction models architectures using Intel natural scenes dataset.\n",
            "\tId                   qNyxnS43S8ybsWggONTWng\n",
            "\tCreated              2022-03-10 15:52:25 (3 minutes ago)\n",
            "\tUpdated              2022-03-10 15:52:28 (3 minutes ago)\n",
            "\tRuns                 6\n",
            "\tTags                 5\n",
            "\tScalars              90\n",
            "\tTensor bytes         0\n",
            "\tBinary object bytes  7559918\n",
            "Total: 1 experiment(s)\n"
          ]
        }
      ]
    },
    {
      "cell_type": "code",
      "source": [
        "# !tensorboard dev delete --experiment_id [INSERT_EXPERIMENT_ID]"
      ],
      "metadata": {
        "id": "Cj4CN7vfe1rM"
      },
      "execution_count": 35,
      "outputs": []
    }
  ]
}